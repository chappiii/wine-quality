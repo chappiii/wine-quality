{
 "cells": [
  {
   "cell_type": "markdown",
   "id": "fdff708e-bd3e-46f6-a195-7f6958a7d1c9",
   "metadata": {},
   "source": [
    "# Inspect the dataset and check the ratio of the classes"
   ]
  },
  {
   "cell_type": "code",
   "execution_count": 12,
   "id": "e87535f6-bfc8-43be-a346-f2cde142333c",
   "metadata": {},
   "outputs": [
    {
     "name": "stdout",
     "output_type": "stream",
     "text": [
      "quality\n",
      "6    2198\n",
      "5    1457\n",
      "7     880\n",
      "8     175\n",
      "4     163\n",
      "3      20\n",
      "9       5\n",
      "Name: count, dtype: int64\n",
      "Class Distribution\n",
      "quality\n",
      "6    44.875459\n",
      "5    29.746835\n",
      "7    17.966517\n",
      "8     3.572887\n",
      "4     3.327889\n",
      "3     0.408330\n",
      "9     0.102082\n",
      "Name: proportion, dtype: float64\n"
     ]
    }
   ],
   "source": [
    "import pandas as pd\n",
    "import numpy as np\n",
    "import matplotlib.pyplot as plt\n",
    "import seaborn as sns\n",
    "\n",
    "data = pd.read_csv('winequality-white.csv', sep=';')\n",
    "\n",
    "print(data.quality.value_counts())\n",
    "data.shape\n",
    "\n",
    "# Calculate the class distribution\n",
    "class_distribution = data['quality'].value_counts(normalize=True)\n",
    "class_distribution_percent = class_distribution * 100\n",
    "print(\"Class Distribution\")\n",
    "print(class_distribution_percent)"
   ]
  },
  {
   "cell_type": "code",
   "execution_count": 14,
   "id": "a6ade762-6ec6-484a-bf29-5323d7b650b8",
   "metadata": {},
   "outputs": [
    {
     "data": {
      "image/png": "[encoded data removed]",
      "text/plain": [
       "<Figure size 640x480 with 1 Axes>"
      ]
     },
     "metadata": {},
     "output_type": "display_data"
    }
   ],
   "source": [
    "import matplotlib.pyplot as plt\n",
    "\n",
    "class_distribution.plot(kind='bar')\n",
    "plt.xlabel('Quality')\n",
    "plt.ylabel('Ratio')\n",
    "plt.title('Class Distribution of Wine Quality')\n",
    "plt.show()"
   ]
  },
  {
   "cell_type": "markdown",
   "id": "f7bd0f84-a152-43eb-8d64-3910f1ddb06c",
   "metadata": {},
   "source": [
    "# Divide the data into train and test sets."
   ]
  },
  {
   "cell_type": "code",
   "execution_count": 16,
   "id": "92fb307a-a066-41e9-b992-819adb39e656",
   "metadata": {},
   "outputs": [
    {
     "data": {
      "text/plain": [
       "((4898, 11), (4898,))"
      ]
     },
     "execution_count": 16,
     "metadata": {},
     "output_type": "execute_result"
    }
   ],
   "source": [
    "# separate class and features\n",
    "target_name = 'quality'\n",
    "\n",
    "y = data[target_name]\n",
    "\n",
    "X = data.drop(target_name, axis=1)\n",
    "\n",
    "X.shape,y.shape\n"
   ]
  },
  {
   "cell_type": "code",
   "execution_count": 18,
   "id": "1f26415b-c899-45e1-aeaf-5f331cef774c",
   "metadata": {},
   "outputs": [
    {
     "data": {
      "text/plain": [
       "<bound method NDFrame.head of 0       6\n",
       "1       6\n",
       "2       6\n",
       "3       6\n",
       "4       6\n",
       "       ..\n",
       "4893    6\n",
       "4894    5\n",
       "4895    6\n",
       "4896    7\n",
       "4897    6\n",
       "Name: quality, Length: 4898, dtype: int64>"
      ]
     },
     "execution_count": 18,
     "metadata": {},
     "output_type": "execute_result"
    }
   ],
   "source": [
    "y.head"
   ]
  },
  {
   "cell_type": "code",
   "execution_count": 20,
   "id": "0490d4f3-8be6-4bf1-9933-8a3fe27774cd",
   "metadata": {},
   "outputs": [],
   "source": [
    "from sklearn.model_selection import train_test_split\n",
    "X_train, X_test, y_train, y_test = train_test_split(X, y, test_size=0.2, random_state=7)"
   ]
  },
  {
   "cell_type": "code",
   "execution_count": 21,
   "id": "2cf1e1e2-30ba-4dfe-b673-d0a647dccf84",
   "metadata": {},
   "outputs": [
    {
     "data": {
      "text/plain": [
       "((3918, 11), (980, 11), (3918,), (980,))"
      ]
     },
     "execution_count": 21,
     "metadata": {},
     "output_type": "execute_result"
    }
   ],
   "source": [
    "X_train.shape, X_test.shape, y_train.shape, y_test.shape"
   ]
  },
  {
   "cell_type": "markdown",
   "id": "474b20ca-158d-425f-8ed7-f10063e33b0f",
   "metadata": {},
   "source": [
    "# Perform scaling on the data."
   ]
  },
  {
   "cell_type": "code",
   "execution_count": 24,
   "id": "8742e446-efcd-4916-b66b-0053920bfcf4",
   "metadata": {},
   "outputs": [
    {
     "data": {
      "text/plain": [
       "((3918, 11), (980, 11))"
      ]
     },
     "execution_count": 24,
     "metadata": {},
     "output_type": "execute_result"
    }
   ],
   "source": [
    "from sklearn.preprocessing import StandardScaler\n",
    "\n",
    "sc = StandardScaler()\n",
    "X_train_scaled = sc.fit_transform(X_train)\n",
    "X_test_scaled = sc.transform(X_test)\n",
    "\n",
    "X_train_scaled.shape, X_test_scaled.shape"
   ]
  },
  {
   "cell_type": "markdown",
   "id": "bd6ac987-c2d8-4490-892f-e15dd6c6dbe1",
   "metadata": {},
   "source": [
    "# Random Forest K-fold cross validation"
   ]
  },
  {
   "cell_type": "code",
   "execution_count": 27,
   "id": "233dc598-fa15-4d7e-a658-039f8e0105fe",
   "metadata": {},
   "outputs": [
    {
     "name": "stdout",
     "output_type": "stream",
     "text": [
      "Accuracy: Mean = 64.40%, Std Dev = 1.00%\n",
      "Precision (Macro): Mean = 51.61%, Std Dev = 3.88%\n",
      "Recall (Macro): Mean = 34.64%, Std Dev = 2.65%\n",
      "F1-Score (Macro): Mean = 38.04%, Std Dev = 3.02%\n"
     ]
    }
   ],
   "source": [
    "from sklearn.ensemble import RandomForestClassifier\n",
    "from sklearn.model_selection import RepeatedKFold, cross_validate\n",
    "from sklearn.metrics import make_scorer, precision_score\n",
    "\n",
    "# Define the classifier\n",
    "model = RandomForestClassifier(n_estimators=140, random_state=1)\n",
    "\n",
    "# Define the Repeated K-Fold Cross-Validator\n",
    "rkf_RF = RepeatedKFold(n_splits=3, n_repeats=10, random_state=7)\n",
    "\n",
    "# Specify metrics\n",
    "scoring = {\n",
    "    'accuracy': 'accuracy',\n",
    "    'precision_macro': make_scorer(precision_score, average='macro', zero_division=0),\n",
    "    'recall_macro': 'recall_macro',\n",
    "    'f1_macro': 'f1_macro'\n",
    "}\n",
    "\n",
    "# Perform cross-validation\n",
    "cv_results_RF = cross_validate(model, X_train_scaled, y_train, cv=rkf_RF, scoring=scoring, return_train_score=False)\n",
    "\n",
    "print(\"Accuracy: Mean = {:.2f}%, Std Dev = {:.2f}%\".format(cv_results_RF['test_accuracy'].mean() * 100, cv_results_RF['test_accuracy'].std() * 100))\n",
    "print(\"Precision (Macro): Mean = {:.2f}%, Std Dev = {:.2f}%\".format(cv_results_RF['test_precision_macro'].mean() * 100, cv_results_RF['test_precision_macro'].std() * 100))\n",
    "print(\"Recall (Macro): Mean = {:.2f}%, Std Dev = {:.2f}%\".format(cv_results_RF['test_recall_macro'].mean() * 100, cv_results_RF['test_recall_macro'].std() * 100))\n",
    "print(\"F1-Score (Macro): Mean = {:.2f}%, Std Dev = {:.2f}%\".format(cv_results_RF['test_f1_macro'].mean() * 100, cv_results_RF['test_f1_macro'].std() * 100))"
   ]
  },
  {
   "cell_type": "markdown",
   "id": "55b26f71-c751-43eb-8dd4-097efb5f3e50",
   "metadata": {},
   "source": [
    "# SVM K-fold cross validation"
   ]
  },
  {
   "cell_type": "code",
   "execution_count": 29,
   "id": "6f0210cc-723c-43fb-b8eb-eb24a883c6ad",
   "metadata": {},
   "outputs": [
    {
     "name": "stdout",
     "output_type": "stream",
     "text": [
      "Accuracy: Mean = 61.36%, Std Dev = 1.03%\n",
      "Precision (Macro): Mean = 47.26%, Std Dev = 3.84%\n",
      "Recall (Macro): Mean = 32.66%, Std Dev = 2.45%\n",
      "F1-Score (Macro): Mean = 35.72%, Std Dev = 2.64%\n"
     ]
    }
   ],
   "source": [
    "from sklearn.svm import SVC\n",
    "from sklearn.model_selection import RepeatedKFold, cross_validate\n",
    "from sklearn.metrics import make_scorer, precision_score\n",
    "\n",
    "\n",
    "# Define the classifier\n",
    "model = SVC(kernel='rbf', C=10, gamma=1, random_state=1)\n",
    "\n",
    "# Define the Repeated K-Fold Cross-Validator\n",
    "rkf_SVM = RepeatedKFold(n_splits=3, n_repeats=10, random_state=7)\n",
    "\n",
    "# Specify metrics\n",
    "scoring = {\n",
    "    'accuracy': 'accuracy',\n",
    "    'precision_macro': make_scorer(precision_score, average='macro', zero_division=0),\n",
    "    'recall_macro': 'recall_macro',\n",
    "    'f1_macro': 'f1_macro'\n",
    "}\n",
    "\n",
    "# Perform cross-validation\n",
    "cv_results_SVM = cross_validate(model, X_train_scaled, y_train, cv=rkf_SVM, scoring=scoring, return_train_score=False)\n",
    "\n",
    "# Extract and print metrics\n",
    "print(\"Accuracy: Mean = {:.2f}%, Std Dev = {:.2f}%\".format(cv_results_SVM['test_accuracy'].mean() * 100, cv_results_SVM['test_accuracy'].std() * 100))\n",
    "print(\"Precision (Macro): Mean = {:.2f}%, Std Dev = {:.2f}%\".format(cv_results_SVM['test_precision_macro'].mean() * 100, cv_results_SVM['test_precision_macro'].std() * 100))\n",
    "print(\"Recall (Macro): Mean = {:.2f}%, Std Dev = {:.2f}%\".format(cv_results_SVM['test_recall_macro'].mean() * 100, cv_results_SVM['test_recall_macro'].std() * 100))\n",
    "print(\"F1-Score (Macro): Mean = {:.2f}%, Std Dev = {:.2f}%\".format(cv_results_SVM['test_f1_macro'].mean() * 100, cv_results_SVM['test_f1_macro'].std() * 100))\n"
   ]
  },
  {
   "cell_type": "markdown",
   "id": "a76b128f-6786-4eae-92fb-6f7f9d2b8414",
   "metadata": {},
   "source": [
    "# RF final model"
   ]
  },
  {
   "cell_type": "code",
   "execution_count": 32,
   "id": "12fc5833-b9c1-4cca-9169-ee7b90749c03",
   "metadata": {},
   "outputs": [],
   "source": [
    "from sklearn.ensemble import RandomForestClassifier\n",
    "from sklearn.metrics import accuracy_score, confusion_matrix, classification_report, precision_score, recall_score, f1_score\n",
    "\n",
    "RF = RandomForestClassifier(n_estimators=140, random_state=1)\n",
    "\n",
    "RF.fit(X_train_scaled, y_train)\n",
    "\n",
    "RF_train_pred = RF.predict(X_train_scaled)\n",
    "\n",
    "RF_test_pred = RF.predict(X_test_scaled)"
   ]
  },
  {
   "cell_type": "markdown",
   "id": "6b1da442-3589-4c23-96fa-a71e9bde6ef0",
   "metadata": {},
   "source": [
    "# RF final model performance on the test "
   ]
  },
  {
   "cell_type": "code",
   "execution_count": 35,
   "id": "cd3a88b8-70b6-4551-ac40-c62b34f6f08f",
   "metadata": {},
   "outputs": [
    {
     "name": "stdout",
     "output_type": "stream",
     "text": [
      "Accuracy on training:  100.0\n",
      "Accuracy on test:  70.3061224489796\n",
      "precision of macro: 57.51\n",
      "recall of macro: 37.56\n",
      "f1_score of macro: 40.83\n"
     ]
    }
   ],
   "source": [
    "print('Accuracy on training: ', accuracy_score(y_train, RF_train_pred)*100)\n",
    "print('Accuracy on test: ', accuracy_score(y_test, RF_test_pred)*100)\n",
    "print('precision of macro:', round(precision_score(y_test, RF_test_pred, average='macro', zero_division=0) * 100, 2))\n",
    "print('recall of macro:', round(recall_score(y_test, RF_test_pred, average='macro') * 100, 2))\n",
    "print('f1_score of macro:', round(f1_score(y_test, RF_test_pred, average='macro') * 100, 2))"
   ]
  },
  {
   "cell_type": "markdown",
   "id": "2e2096d4-c30a-441d-9f0f-65a706c287d8",
   "metadata": {},
   "source": [
    "# Balance the data(over sampling)"
   ]
  },
  {
   "cell_type": "code",
   "execution_count": 38,
   "id": "7bb5ad7a-0965-4b07-9459-8700e3d8c36e",
   "metadata": {},
   "outputs": [],
   "source": [
    "# SMOTE\n",
    "from imblearn.over_sampling import SMOTE\n",
    "\n",
    "oversample = SMOTE(k_neighbors=3)\n",
    "X_train_balanced, y_train_balanced = oversample.fit_resample(X_train_scaled, y_train)"
   ]
  },
  {
   "cell_type": "code",
   "execution_count": 40,
   "id": "af8d8b94-6e33-43a4-9a2b-88d01ae5a521",
   "metadata": {},
   "outputs": [
    {
     "data": {
      "text/plain": [
       "((12194, 11), (12194,))"
      ]
     },
     "execution_count": 40,
     "metadata": {},
     "output_type": "execute_result"
    }
   ],
   "source": [
    "X_train_balanced.shape, y_train_balanced.shape"
   ]
  },
  {
   "cell_type": "code",
   "execution_count": 42,
   "id": "759efcad-8146-4f95-928a-c4c1eef3efa4",
   "metadata": {},
   "outputs": [
    {
     "name": "stdout",
     "output_type": "stream",
     "text": [
      "quality\n",
      "6    14.285714\n",
      "5    14.285714\n",
      "7    14.285714\n",
      "4    14.285714\n",
      "8    14.285714\n",
      "3    14.285714\n",
      "9    14.285714\n",
      "Name: proportion, dtype: float64\n"
     ]
    }
   ],
   "source": [
    "class_distribution = pd.Series(y_train_balanced).value_counts(normalize=True) * 100\n",
    "print(class_distribution)"
   ]
  },
  {
   "cell_type": "code",
   "execution_count": 44,
   "id": "9aaa27d8-bf73-4b8c-891e-aa701531aea1",
   "metadata": {},
   "outputs": [
    {
     "data": {
      "image/png": "[encoded data removed]",
      "text/plain": [
       "<Figure size 640x480 with 1 Axes>"
      ]
     },
     "metadata": {},
     "output_type": "display_data"
    }
   ],
   "source": [
    "pd.Series(y_train_balanced).value_counts().plot.bar()\n",
    "plt.grid()"
   ]
  },
  {
   "cell_type": "markdown",
   "id": "6ec3d149-8f79-4a9d-abe7-e8698f3087ee",
   "metadata": {},
   "source": [
    "# Random Forest K-fold cross validation on balanced Data"
   ]
  },
  {
   "cell_type": "code",
   "execution_count": 47,
   "id": "51d4b28a-2ad1-40de-91d4-49960ed48dd9",
   "metadata": {},
   "outputs": [
    {
     "name": "stdout",
     "output_type": "stream",
     "text": [
      "Accuracy: Mean = 89.33%, Std Dev = 0.48%\n",
      "Precision (Macro): Mean = 88.96%, Std Dev = 0.52%\n",
      "Recall (Macro): Mean = 89.34%, Std Dev = 0.50%\n",
      "F1-Score (Macro): Mean = 89.04%, Std Dev = 0.52%\n"
     ]
    }
   ],
   "source": [
    "from sklearn.model_selection import RepeatedKFold, cross_validate\n",
    "from sklearn.ensemble import RandomForestClassifier\n",
    "from sklearn.metrics import make_scorer, precision_score\n",
    "\n",
    "\n",
    "# Define the classifier\n",
    "model = RandomForestClassifier(n_estimators=140, random_state=1)\n",
    "\n",
    "# Define the Repeated K-Fold Cross-Validator\n",
    "rkf = RepeatedKFold(n_splits=3, n_repeats=10, random_state=7)\n",
    "\n",
    "scoring = {\n",
    "    'accuracy': 'accuracy',\n",
    "    'precision_macro': make_scorer(precision_score, average='macro', zero_division=0),\n",
    "    'recall_macro': 'recall_macro',\n",
    "    'f1_macro': 'f1_macro'\n",
    "}\n",
    "\n",
    "# Perform cross-validation\n",
    "cv_results = cross_validate(model, X_train_balanced, y_train_balanced, cv=rkf, scoring=scoring, return_train_score=False)\n",
    "\n",
    "print(\"Accuracy: Mean = {:.2f}%, Std Dev = {:.2f}%\".format(cv_results['test_accuracy'].mean() * 100, cv_results['test_accuracy'].std() * 100))\n",
    "print(\"Precision (Macro): Mean = {:.2f}%, Std Dev = {:.2f}%\".format(cv_results['test_precision_macro'].mean() * 100, cv_results['test_precision_macro'].std() * 100))\n",
    "print(\"Recall (Macro): Mean = {:.2f}%, Std Dev = {:.2f}%\".format(cv_results['test_recall_macro'].mean() * 100, cv_results['test_recall_macro'].std() * 100))\n",
    "print(\"F1-Score (Macro): Mean = {:.2f}%, Std Dev = {:.2f}%\".format(cv_results['test_f1_macro'].mean() * 100, cv_results['test_f1_macro'].std() * 100))"
   ]
  },
  {
   "cell_type": "markdown",
   "id": "4ebab928-ce68-4918-9990-91352040cbaf",
   "metadata": {},
   "source": [
    "# Final Random Forest model on balanced Data"
   ]
  },
  {
   "cell_type": "code",
   "execution_count": 49,
   "id": "0f8a9092-47d4-4015-97ca-21be33ad02ec",
   "metadata": {},
   "outputs": [
    {
     "name": "stdout",
     "output_type": "stream",
     "text": [
      "Accuracy on training:  100.0\n",
      "Accuracy on test:  66.93877551020408\n",
      "precision of macro: 43.57\n",
      "recall of macro: 41.69\n",
      "f1_score of macro: 42.22\n"
     ]
    }
   ],
   "source": [
    "from sklearn.ensemble import RandomForestClassifier\n",
    "from sklearn.metrics import accuracy_score, confusion_matrix, classification_report, precision_score, recall_score, f1_score\n",
    "\n",
    "RF = RandomForestClassifier(n_estimators=140, random_state=1)\n",
    "\n",
    "RF.fit(X_train_balanced, y_train_balanced)\n",
    "\n",
    "RF_train_pred = RF.predict(X_train_balanced)\n",
    "\n",
    "RF_test_pred = RF.predict(X_test_scaled)\n",
    "\n",
    "print('Accuracy on training: ', accuracy_score(y_train_balanced, RF_train_pred)*100)\n",
    "print('Accuracy on test: ', accuracy_score(y_test, RF_test_pred)*100)\n",
    "print('precision of macro:', round(precision_score(y_test, RF_test_pred, average='macro', zero_division=0) * 100, 2))\n",
    "print('recall of macro:', round(recall_score(y_test, RF_test_pred, average='macro') * 100, 2))\n",
    "print('f1_score of macro:', round(f1_score(y_test, RF_test_pred, average='macro') * 100, 2))"
   ]
  },
  {
   "cell_type": "code",
   "execution_count": null,
   "id": "bc12503e-805c-4694-8821-d2197c022c4a",
   "metadata": {},
   "outputs": [],
   "source": []
  }
 ],
 "metadata": {
  "kernelspec": {
   "display_name": "Python 3 (ipykernel)",
   "language": "python",
   "name": "python3"
  },
  "language_info": {
   "codemirror_mode": {
    "name": "ipython",
    "version": 3
   },
   "file_extension": ".py",
   "mimetype": "text/x-python",
   "name": "python",
   "nbconvert_exporter": "python",
   "pygments_lexer": "ipython3",
   "version": "3.12.4"
  }
 },
 "nbformat": 4,
 "nbformat_minor": 5
}
